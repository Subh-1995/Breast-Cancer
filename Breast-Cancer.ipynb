{
 "cells": [
  {
   "cell_type": "markdown",
   "id": "d091311a",
   "metadata": {
    "papermill": {
     "duration": 0.008319,
     "end_time": "2023-10-19T13:07:08.007662",
     "exception": false,
     "start_time": "2023-10-19T13:07:07.999343",
     "status": "completed"
    },
    "tags": []
   },
   "source": [
    "# Imports"
   ]
  },
  {
   "cell_type": "code",
   "execution_count": 1,
   "id": "f54b5f09",
   "metadata": {
    "_cell_guid": "b1076dfc-b9ad-4769-8c92-a6c4dae69d19",
    "_uuid": "8f2839f25d086af736a60e9eeb907d3b93b6e0e5",
    "execution": {
     "iopub.execute_input": "2023-10-19T13:07:08.019709Z",
     "iopub.status.busy": "2023-10-19T13:07:08.019166Z",
     "iopub.status.idle": "2023-10-19T13:07:10.270148Z",
     "shell.execute_reply": "2023-10-19T13:07:10.269048Z"
    },
    "papermill": {
     "duration": 2.260109,
     "end_time": "2023-10-19T13:07:10.272899",
     "exception": false,
     "start_time": "2023-10-19T13:07:08.012790",
     "status": "completed"
    },
    "tags": []
   },
   "outputs": [],
   "source": [
    "import pandas as pd\n",
    "import matplotlib.pyplot as plt\n",
    "import seaborn as sns\n"
   ]
  },
  {
   "cell_type": "markdown",
   "id": "0c16fbad",
   "metadata": {
    "papermill": {
     "duration": 0.004208,
     "end_time": "2023-10-19T13:07:10.281905",
     "exception": false,
     "start_time": "2023-10-19T13:07:10.277697",
     "status": "completed"
    },
    "tags": []
   },
   "source": [
    "# Data Input"
   ]
  },
  {
   "cell_type": "code",
   "execution_count": 2,
   "id": "31275627",
   "metadata": {
    "execution": {
     "iopub.execute_input": "2023-10-19T13:07:10.292910Z",
     "iopub.status.busy": "2023-10-19T13:07:10.292284Z",
     "iopub.status.idle": "2023-10-19T13:07:10.341366Z",
     "shell.execute_reply": "2023-10-19T13:07:10.340284Z"
    },
    "papermill": {
     "duration": 0.057876,
     "end_time": "2023-10-19T13:07:10.344256",
     "exception": false,
     "start_time": "2023-10-19T13:07:10.286380",
     "status": "completed"
    },
    "tags": []
   },
   "outputs": [],
   "source": [
    "df = pd.read_csv('/kaggle/input/breast-cancer-wisconsin-data/data.csv').drop(['id', 'Unnamed: 32'], axis=1)\n"
   ]
  },
  {
   "cell_type": "code",
   "execution_count": 3,
   "id": "dfc477f5",
   "metadata": {
    "execution": {
     "iopub.execute_input": "2023-10-19T13:07:10.355461Z",
     "iopub.status.busy": "2023-10-19T13:07:10.355052Z",
     "iopub.status.idle": "2023-10-19T13:07:10.393854Z",
     "shell.execute_reply": "2023-10-19T13:07:10.392640Z"
    },
    "papermill": {
     "duration": 0.047623,
     "end_time": "2023-10-19T13:07:10.396564",
     "exception": false,
     "start_time": "2023-10-19T13:07:10.348941",
     "status": "completed"
    },
    "tags": []
   },
   "outputs": [
    {
     "data": {
      "text/html": [
       "<div>\n",
       "<style scoped>\n",
       "    .dataframe tbody tr th:only-of-type {\n",
       "        vertical-align: middle;\n",
       "    }\n",
       "\n",
       "    .dataframe tbody tr th {\n",
       "        vertical-align: top;\n",
       "    }\n",
       "\n",
       "    .dataframe thead th {\n",
       "        text-align: right;\n",
       "    }\n",
       "</style>\n",
       "<table border=\"1\" class=\"dataframe\">\n",
       "  <thead>\n",
       "    <tr style=\"text-align: right;\">\n",
       "      <th></th>\n",
       "      <th>diagnosis</th>\n",
       "      <th>radius_mean</th>\n",
       "      <th>texture_mean</th>\n",
       "      <th>perimeter_mean</th>\n",
       "      <th>area_mean</th>\n",
       "      <th>smoothness_mean</th>\n",
       "      <th>compactness_mean</th>\n",
       "      <th>concavity_mean</th>\n",
       "      <th>concave points_mean</th>\n",
       "      <th>symmetry_mean</th>\n",
       "      <th>fractal_dimension_mean</th>\n",
       "      <th>radius_se</th>\n",
       "      <th>texture_se</th>\n",
       "      <th>perimeter_se</th>\n",
       "      <th>area_se</th>\n",
       "      <th>smoothness_se</th>\n",
       "      <th>compactness_se</th>\n",
       "      <th>concavity_se</th>\n",
       "      <th>concave points_se</th>\n",
       "      <th>symmetry_se</th>\n",
       "      <th>fractal_dimension_se</th>\n",
       "      <th>radius_worst</th>\n",
       "      <th>texture_worst</th>\n",
       "      <th>perimeter_worst</th>\n",
       "      <th>area_worst</th>\n",
       "      <th>smoothness_worst</th>\n",
       "      <th>compactness_worst</th>\n",
       "      <th>concavity_worst</th>\n",
       "      <th>concave points_worst</th>\n",
       "      <th>symmetry_worst</th>\n",
       "      <th>fractal_dimension_worst</th>\n",
       "    </tr>\n",
       "  </thead>\n",
       "  <tbody>\n",
       "    <tr>\n",
       "      <th>0</th>\n",
       "      <td>M</td>\n",
       "      <td>17.99</td>\n",
       "      <td>10.38</td>\n",
       "      <td>122.80</td>\n",
       "      <td>1001.0</td>\n",
       "      <td>0.11840</td>\n",
       "      <td>0.27760</td>\n",
       "      <td>0.3001</td>\n",
       "      <td>0.14710</td>\n",
       "      <td>0.2419</td>\n",
       "      <td>0.07871</td>\n",
       "      <td>1.0950</td>\n",
       "      <td>0.9053</td>\n",
       "      <td>8.589</td>\n",
       "      <td>153.40</td>\n",
       "      <td>0.006399</td>\n",
       "      <td>0.04904</td>\n",
       "      <td>0.05373</td>\n",
       "      <td>0.01587</td>\n",
       "      <td>0.03003</td>\n",
       "      <td>0.006193</td>\n",
       "      <td>25.38</td>\n",
       "      <td>17.33</td>\n",
       "      <td>184.60</td>\n",
       "      <td>2019.0</td>\n",
       "      <td>0.1622</td>\n",
       "      <td>0.6656</td>\n",
       "      <td>0.7119</td>\n",
       "      <td>0.2654</td>\n",
       "      <td>0.4601</td>\n",
       "      <td>0.11890</td>\n",
       "    </tr>\n",
       "    <tr>\n",
       "      <th>1</th>\n",
       "      <td>M</td>\n",
       "      <td>20.57</td>\n",
       "      <td>17.77</td>\n",
       "      <td>132.90</td>\n",
       "      <td>1326.0</td>\n",
       "      <td>0.08474</td>\n",
       "      <td>0.07864</td>\n",
       "      <td>0.0869</td>\n",
       "      <td>0.07017</td>\n",
       "      <td>0.1812</td>\n",
       "      <td>0.05667</td>\n",
       "      <td>0.5435</td>\n",
       "      <td>0.7339</td>\n",
       "      <td>3.398</td>\n",
       "      <td>74.08</td>\n",
       "      <td>0.005225</td>\n",
       "      <td>0.01308</td>\n",
       "      <td>0.01860</td>\n",
       "      <td>0.01340</td>\n",
       "      <td>0.01389</td>\n",
       "      <td>0.003532</td>\n",
       "      <td>24.99</td>\n",
       "      <td>23.41</td>\n",
       "      <td>158.80</td>\n",
       "      <td>1956.0</td>\n",
       "      <td>0.1238</td>\n",
       "      <td>0.1866</td>\n",
       "      <td>0.2416</td>\n",
       "      <td>0.1860</td>\n",
       "      <td>0.2750</td>\n",
       "      <td>0.08902</td>\n",
       "    </tr>\n",
       "    <tr>\n",
       "      <th>2</th>\n",
       "      <td>M</td>\n",
       "      <td>19.69</td>\n",
       "      <td>21.25</td>\n",
       "      <td>130.00</td>\n",
       "      <td>1203.0</td>\n",
       "      <td>0.10960</td>\n",
       "      <td>0.15990</td>\n",
       "      <td>0.1974</td>\n",
       "      <td>0.12790</td>\n",
       "      <td>0.2069</td>\n",
       "      <td>0.05999</td>\n",
       "      <td>0.7456</td>\n",
       "      <td>0.7869</td>\n",
       "      <td>4.585</td>\n",
       "      <td>94.03</td>\n",
       "      <td>0.006150</td>\n",
       "      <td>0.04006</td>\n",
       "      <td>0.03832</td>\n",
       "      <td>0.02058</td>\n",
       "      <td>0.02250</td>\n",
       "      <td>0.004571</td>\n",
       "      <td>23.57</td>\n",
       "      <td>25.53</td>\n",
       "      <td>152.50</td>\n",
       "      <td>1709.0</td>\n",
       "      <td>0.1444</td>\n",
       "      <td>0.4245</td>\n",
       "      <td>0.4504</td>\n",
       "      <td>0.2430</td>\n",
       "      <td>0.3613</td>\n",
       "      <td>0.08758</td>\n",
       "    </tr>\n",
       "    <tr>\n",
       "      <th>3</th>\n",
       "      <td>M</td>\n",
       "      <td>11.42</td>\n",
       "      <td>20.38</td>\n",
       "      <td>77.58</td>\n",
       "      <td>386.1</td>\n",
       "      <td>0.14250</td>\n",
       "      <td>0.28390</td>\n",
       "      <td>0.2414</td>\n",
       "      <td>0.10520</td>\n",
       "      <td>0.2597</td>\n",
       "      <td>0.09744</td>\n",
       "      <td>0.4956</td>\n",
       "      <td>1.1560</td>\n",
       "      <td>3.445</td>\n",
       "      <td>27.23</td>\n",
       "      <td>0.009110</td>\n",
       "      <td>0.07458</td>\n",
       "      <td>0.05661</td>\n",
       "      <td>0.01867</td>\n",
       "      <td>0.05963</td>\n",
       "      <td>0.009208</td>\n",
       "      <td>14.91</td>\n",
       "      <td>26.50</td>\n",
       "      <td>98.87</td>\n",
       "      <td>567.7</td>\n",
       "      <td>0.2098</td>\n",
       "      <td>0.8663</td>\n",
       "      <td>0.6869</td>\n",
       "      <td>0.2575</td>\n",
       "      <td>0.6638</td>\n",
       "      <td>0.17300</td>\n",
       "    </tr>\n",
       "    <tr>\n",
       "      <th>4</th>\n",
       "      <td>M</td>\n",
       "      <td>20.29</td>\n",
       "      <td>14.34</td>\n",
       "      <td>135.10</td>\n",
       "      <td>1297.0</td>\n",
       "      <td>0.10030</td>\n",
       "      <td>0.13280</td>\n",
       "      <td>0.1980</td>\n",
       "      <td>0.10430</td>\n",
       "      <td>0.1809</td>\n",
       "      <td>0.05883</td>\n",
       "      <td>0.7572</td>\n",
       "      <td>0.7813</td>\n",
       "      <td>5.438</td>\n",
       "      <td>94.44</td>\n",
       "      <td>0.011490</td>\n",
       "      <td>0.02461</td>\n",
       "      <td>0.05688</td>\n",
       "      <td>0.01885</td>\n",
       "      <td>0.01756</td>\n",
       "      <td>0.005115</td>\n",
       "      <td>22.54</td>\n",
       "      <td>16.67</td>\n",
       "      <td>152.20</td>\n",
       "      <td>1575.0</td>\n",
       "      <td>0.1374</td>\n",
       "      <td>0.2050</td>\n",
       "      <td>0.4000</td>\n",
       "      <td>0.1625</td>\n",
       "      <td>0.2364</td>\n",
       "      <td>0.07678</td>\n",
       "    </tr>\n",
       "  </tbody>\n",
       "</table>\n",
       "</div>"
      ],
      "text/plain": [
       "  diagnosis  radius_mean  texture_mean  perimeter_mean  area_mean  smoothness_mean  compactness_mean  concavity_mean  concave points_mean  symmetry_mean  fractal_dimension_mean  radius_se  texture_se  perimeter_se  area_se  smoothness_se  compactness_se  concavity_se  concave points_se  symmetry_se  fractal_dimension_se  radius_worst  texture_worst  perimeter_worst  area_worst  smoothness_worst  compactness_worst  concavity_worst  concave points_worst  symmetry_worst  fractal_dimension_worst\n",
       "0         M        17.99         10.38          122.80     1001.0          0.11840           0.27760          0.3001              0.14710         0.2419                 0.07871     1.0950      0.9053         8.589   153.40       0.006399         0.04904       0.05373            0.01587      0.03003              0.006193         25.38          17.33           184.60      2019.0            0.1622             0.6656           0.7119                0.2654          0.4601                  0.11890\n",
       "1         M        20.57         17.77          132.90     1326.0          0.08474           0.07864          0.0869              0.07017         0.1812                 0.05667     0.5435      0.7339         3.398    74.08       0.005225         0.01308       0.01860            0.01340      0.01389              0.003532         24.99          23.41           158.80      1956.0            0.1238             0.1866           0.2416                0.1860          0.2750                  0.08902\n",
       "2         M        19.69         21.25          130.00     1203.0          0.10960           0.15990          0.1974              0.12790         0.2069                 0.05999     0.7456      0.7869         4.585    94.03       0.006150         0.04006       0.03832            0.02058      0.02250              0.004571         23.57          25.53           152.50      1709.0            0.1444             0.4245           0.4504                0.2430          0.3613                  0.08758\n",
       "3         M        11.42         20.38           77.58      386.1          0.14250           0.28390          0.2414              0.10520         0.2597                 0.09744     0.4956      1.1560         3.445    27.23       0.009110         0.07458       0.05661            0.01867      0.05963              0.009208         14.91          26.50            98.87       567.7            0.2098             0.8663           0.6869                0.2575          0.6638                  0.17300\n",
       "4         M        20.29         14.34          135.10     1297.0          0.10030           0.13280          0.1980              0.10430         0.1809                 0.05883     0.7572      0.7813         5.438    94.44       0.011490         0.02461       0.05688            0.01885      0.01756              0.005115         22.54          16.67           152.20      1575.0            0.1374             0.2050           0.4000                0.1625          0.2364                  0.07678"
      ]
     },
     "execution_count": 3,
     "metadata": {},
     "output_type": "execute_result"
    }
   ],
   "source": [
    "df.head()"
   ]
  },
  {
   "cell_type": "markdown",
   "id": "e3b41119",
   "metadata": {
    "papermill": {
     "duration": 0.00483,
     "end_time": "2023-10-19T13:07:10.406965",
     "exception": false,
     "start_time": "2023-10-19T13:07:10.402135",
     "status": "completed"
    },
    "tags": []
   },
   "source": [
    "# Decision Tree Model"
   ]
  },
  {
   "cell_type": "code",
   "execution_count": 4,
   "id": "2e3310cc",
   "metadata": {
    "execution": {
     "iopub.execute_input": "2023-10-19T13:07:10.419118Z",
     "iopub.status.busy": "2023-10-19T13:07:10.418302Z",
     "iopub.status.idle": "2023-10-19T13:07:11.100320Z",
     "shell.execute_reply": "2023-10-19T13:07:11.099504Z"
    },
    "papermill": {
     "duration": 0.690927,
     "end_time": "2023-10-19T13:07:11.102728",
     "exception": false,
     "start_time": "2023-10-19T13:07:10.411801",
     "status": "completed"
    },
    "tags": []
   },
   "outputs": [
    {
     "data": {
      "text/plain": [
       "1.0"
      ]
     },
     "execution_count": 4,
     "metadata": {},
     "output_type": "execute_result"
    }
   ],
   "source": [
    "from sklearn.model_selection import train_test_split\n",
    "from sklearn.tree import DecisionTreeClassifier as DT\n",
    "\n",
    "x = df.drop('diagnosis', axis=1)\n",
    "y = df['diagnosis']\n",
    "\n",
    "x_train, x_test, y_train, y_test = train_test_split(x, y, test_size=0.2)\n",
    "\n",
    "dt = DT()\n",
    "dt.fit(x_train, y_train)\n",
    "dt.score(x_train, y_train)"
   ]
  },
  {
   "cell_type": "markdown",
   "id": "2d28b567",
   "metadata": {
    "papermill": {
     "duration": 0.0048,
     "end_time": "2023-10-19T13:07:11.112661",
     "exception": false,
     "start_time": "2023-10-19T13:07:11.107861",
     "status": "completed"
    },
    "tags": []
   },
   "source": [
    "## More Metrics"
   ]
  },
  {
   "cell_type": "code",
   "execution_count": 5,
   "id": "1930e74f",
   "metadata": {
    "execution": {
     "iopub.execute_input": "2023-10-19T13:07:11.125346Z",
     "iopub.status.busy": "2023-10-19T13:07:11.124936Z",
     "iopub.status.idle": "2023-10-19T13:07:11.141865Z",
     "shell.execute_reply": "2023-10-19T13:07:11.141103Z"
    },
    "papermill": {
     "duration": 0.026353,
     "end_time": "2023-10-19T13:07:11.143979",
     "exception": false,
     "start_time": "2023-10-19T13:07:11.117626",
     "status": "completed"
    },
    "tags": []
   },
   "outputs": [
    {
     "name": "stdout",
     "output_type": "stream",
     "text": [
      "Accuracy: 0.9122807017543859\n",
      "Precision: 0.9078947368421053\n",
      "Recall: 0.897972972972973\n"
     ]
    }
   ],
   "source": [
    "from sklearn.metrics import *\n",
    "\n",
    "metrics = {}\n",
    "\n",
    "y_pred = dt.predict(x_test)\n",
    "\n",
    "accuracy = accuracy_score(y_test, y_pred)\n",
    "precision = precision_score(y_test, y_pred, average='macro')\n",
    "recall = recall_score(y_test, y_pred, average='macro')\n",
    "\n",
    "metrics['DecisionTree'] = {'accuracy':accuracy, 'precision':precision, 'recall':recall}\n",
    "\n",
    "print(\"Accuracy:\", accuracy)\n",
    "print(\"Precision:\", precision)\n",
    "print(\"Recall:\", recall)"
   ]
  },
  {
   "cell_type": "code",
   "execution_count": 6,
   "id": "b3ac8dec",
   "metadata": {
    "execution": {
     "iopub.execute_input": "2023-10-19T13:07:11.156418Z",
     "iopub.status.busy": "2023-10-19T13:07:11.156004Z",
     "iopub.status.idle": "2023-10-19T13:07:11.170066Z",
     "shell.execute_reply": "2023-10-19T13:07:11.168893Z"
    },
    "papermill": {
     "duration": 0.023341,
     "end_time": "2023-10-19T13:07:11.172679",
     "exception": false,
     "start_time": "2023-10-19T13:07:11.149338",
     "status": "completed"
    },
    "tags": []
   },
   "outputs": [
    {
     "data": {
      "text/html": [
       "<style>#sk-container-id-1 {color: black;background-color: white;}#sk-container-id-1 pre{padding: 0;}#sk-container-id-1 div.sk-toggleable {background-color: white;}#sk-container-id-1 label.sk-toggleable__label {cursor: pointer;display: block;width: 100%;margin-bottom: 0;padding: 0.3em;box-sizing: border-box;text-align: center;}#sk-container-id-1 label.sk-toggleable__label-arrow:before {content: \"▸\";float: left;margin-right: 0.25em;color: #696969;}#sk-container-id-1 label.sk-toggleable__label-arrow:hover:before {color: black;}#sk-container-id-1 div.sk-estimator:hover label.sk-toggleable__label-arrow:before {color: black;}#sk-container-id-1 div.sk-toggleable__content {max-height: 0;max-width: 0;overflow: hidden;text-align: left;background-color: #f0f8ff;}#sk-container-id-1 div.sk-toggleable__content pre {margin: 0.2em;color: black;border-radius: 0.25em;background-color: #f0f8ff;}#sk-container-id-1 input.sk-toggleable__control:checked~div.sk-toggleable__content {max-height: 200px;max-width: 100%;overflow: auto;}#sk-container-id-1 input.sk-toggleable__control:checked~label.sk-toggleable__label-arrow:before {content: \"▾\";}#sk-container-id-1 div.sk-estimator input.sk-toggleable__control:checked~label.sk-toggleable__label {background-color: #d4ebff;}#sk-container-id-1 div.sk-label input.sk-toggleable__control:checked~label.sk-toggleable__label {background-color: #d4ebff;}#sk-container-id-1 input.sk-hidden--visually {border: 0;clip: rect(1px 1px 1px 1px);clip: rect(1px, 1px, 1px, 1px);height: 1px;margin: -1px;overflow: hidden;padding: 0;position: absolute;width: 1px;}#sk-container-id-1 div.sk-estimator {font-family: monospace;background-color: #f0f8ff;border: 1px dotted black;border-radius: 0.25em;box-sizing: border-box;margin-bottom: 0.5em;}#sk-container-id-1 div.sk-estimator:hover {background-color: #d4ebff;}#sk-container-id-1 div.sk-parallel-item::after {content: \"\";width: 100%;border-bottom: 1px solid gray;flex-grow: 1;}#sk-container-id-1 div.sk-label:hover label.sk-toggleable__label {background-color: #d4ebff;}#sk-container-id-1 div.sk-serial::before {content: \"\";position: absolute;border-left: 1px solid gray;box-sizing: border-box;top: 0;bottom: 0;left: 50%;z-index: 0;}#sk-container-id-1 div.sk-serial {display: flex;flex-direction: column;align-items: center;background-color: white;padding-right: 0.2em;padding-left: 0.2em;position: relative;}#sk-container-id-1 div.sk-item {position: relative;z-index: 1;}#sk-container-id-1 div.sk-parallel {display: flex;align-items: stretch;justify-content: center;background-color: white;position: relative;}#sk-container-id-1 div.sk-item::before, #sk-container-id-1 div.sk-parallel-item::before {content: \"\";position: absolute;border-left: 1px solid gray;box-sizing: border-box;top: 0;bottom: 0;left: 50%;z-index: -1;}#sk-container-id-1 div.sk-parallel-item {display: flex;flex-direction: column;z-index: 1;position: relative;background-color: white;}#sk-container-id-1 div.sk-parallel-item:first-child::after {align-self: flex-end;width: 50%;}#sk-container-id-1 div.sk-parallel-item:last-child::after {align-self: flex-start;width: 50%;}#sk-container-id-1 div.sk-parallel-item:only-child::after {width: 0;}#sk-container-id-1 div.sk-dashed-wrapped {border: 1px dashed gray;margin: 0 0.4em 0.5em 0.4em;box-sizing: border-box;padding-bottom: 0.4em;background-color: white;}#sk-container-id-1 div.sk-label label {font-family: monospace;font-weight: bold;display: inline-block;line-height: 1.2em;}#sk-container-id-1 div.sk-label-container {text-align: center;}#sk-container-id-1 div.sk-container {/* jupyter's `normalize.less` sets `[hidden] { display: none; }` but bootstrap.min.css set `[hidden] { display: none !important; }` so we also need the `!important` here to be able to override the default hidden behavior on the sphinx rendered scikit-learn.org. See: https://github.com/scikit-learn/scikit-learn/issues/21755 */display: inline-block !important;position: relative;}#sk-container-id-1 div.sk-text-repr-fallback {display: none;}</style><div id=\"sk-container-id-1\" class=\"sk-top-container\"><div class=\"sk-text-repr-fallback\"><pre>DecisionTreeClassifier()</pre><b>In a Jupyter environment, please rerun this cell to show the HTML representation or trust the notebook. <br />On GitHub, the HTML representation is unable to render, please try loading this page with nbviewer.org.</b></div><div class=\"sk-container\" hidden><div class=\"sk-item\"><div class=\"sk-estimator sk-toggleable\"><input class=\"sk-toggleable__control sk-hidden--visually\" id=\"sk-estimator-id-1\" type=\"checkbox\" checked><label for=\"sk-estimator-id-1\" class=\"sk-toggleable__label sk-toggleable__label-arrow\">DecisionTreeClassifier</label><div class=\"sk-toggleable__content\"><pre>DecisionTreeClassifier()</pre></div></div></div></div></div>"
      ],
      "text/plain": [
       "DecisionTreeClassifier()"
      ]
     },
     "execution_count": 6,
     "metadata": {},
     "output_type": "execute_result"
    }
   ],
   "source": [
    "dt"
   ]
  },
  {
   "cell_type": "code",
   "execution_count": 7,
   "id": "d4dee19c",
   "metadata": {
    "execution": {
     "iopub.execute_input": "2023-10-19T13:07:11.187250Z",
     "iopub.status.busy": "2023-10-19T13:07:11.186293Z",
     "iopub.status.idle": "2023-10-19T13:07:11.216635Z",
     "shell.execute_reply": "2023-10-19T13:07:11.215448Z"
    },
    "papermill": {
     "duration": 0.041698,
     "end_time": "2023-10-19T13:07:11.220696",
     "exception": false,
     "start_time": "2023-10-19T13:07:11.178998",
     "status": "completed"
    },
    "tags": []
   },
   "outputs": [
    {
     "data": {
      "text/html": [
       "<div>\n",
       "<style scoped>\n",
       "    .dataframe tbody tr th:only-of-type {\n",
       "        vertical-align: middle;\n",
       "    }\n",
       "\n",
       "    .dataframe tbody tr th {\n",
       "        vertical-align: top;\n",
       "    }\n",
       "\n",
       "    .dataframe thead th {\n",
       "        text-align: right;\n",
       "    }\n",
       "</style>\n",
       "<table border=\"1\" class=\"dataframe\">\n",
       "  <thead>\n",
       "    <tr style=\"text-align: right;\">\n",
       "      <th></th>\n",
       "      <th>perimeter_worst</th>\n",
       "      <th>concave points_worst</th>\n",
       "      <th>texture_worst</th>\n",
       "      <th>concave points_mean</th>\n",
       "      <th>texture_mean</th>\n",
       "      <th>area_worst</th>\n",
       "      <th>symmetry_se</th>\n",
       "      <th>perimeter_se</th>\n",
       "      <th>radius_se</th>\n",
       "      <th>smoothness_mean</th>\n",
       "      <th>fractal_dimension_mean</th>\n",
       "      <th>symmetry_worst</th>\n",
       "      <th>smoothness_worst</th>\n",
       "      <th>smoothness_se</th>\n",
       "      <th>fractal_dimension_se</th>\n",
       "      <th>compactness_worst</th>\n",
       "      <th>concavity_worst</th>\n",
       "      <th>radius_worst</th>\n",
       "      <th>radius_mean</th>\n",
       "      <th>compactness_se</th>\n",
       "      <th>concave points_se</th>\n",
       "      <th>concavity_se</th>\n",
       "      <th>area_se</th>\n",
       "      <th>texture_se</th>\n",
       "      <th>symmetry_mean</th>\n",
       "      <th>concavity_mean</th>\n",
       "      <th>compactness_mean</th>\n",
       "      <th>area_mean</th>\n",
       "      <th>perimeter_mean</th>\n",
       "      <th>fractal_dimension_worst</th>\n",
       "    </tr>\n",
       "  </thead>\n",
       "  <tbody>\n",
       "    <tr>\n",
       "      <th>0</th>\n",
       "      <td>0.714865</td>\n",
       "      <td>0.091251</td>\n",
       "      <td>0.061011</td>\n",
       "      <td>0.028923</td>\n",
       "      <td>0.0219</td>\n",
       "      <td>0.015501</td>\n",
       "      <td>0.014021</td>\n",
       "      <td>0.011217</td>\n",
       "      <td>0.009035</td>\n",
       "      <td>0.008569</td>\n",
       "      <td>0.008012</td>\n",
       "      <td>0.008012</td>\n",
       "      <td>0.006232</td>\n",
       "      <td>0.00145</td>\n",
       "      <td>0.0</td>\n",
       "      <td>0.0</td>\n",
       "      <td>0.0</td>\n",
       "      <td>0.0</td>\n",
       "      <td>0.0</td>\n",
       "      <td>0.0</td>\n",
       "      <td>0.0</td>\n",
       "      <td>0.0</td>\n",
       "      <td>0.0</td>\n",
       "      <td>0.0</td>\n",
       "      <td>0.0</td>\n",
       "      <td>0.0</td>\n",
       "      <td>0.0</td>\n",
       "      <td>0.0</td>\n",
       "      <td>0.0</td>\n",
       "      <td>0.0</td>\n",
       "    </tr>\n",
       "  </tbody>\n",
       "</table>\n",
       "</div>"
      ],
      "text/plain": [
       "   perimeter_worst  concave points_worst  texture_worst  concave points_mean  texture_mean  area_worst  symmetry_se  perimeter_se  radius_se  smoothness_mean  fractal_dimension_mean  symmetry_worst  smoothness_worst  smoothness_se  fractal_dimension_se  compactness_worst  concavity_worst  radius_worst  radius_mean  compactness_se  concave points_se  concavity_se  area_se  texture_se  symmetry_mean  concavity_mean  compactness_mean  area_mean  perimeter_mean  fractal_dimension_worst\n",
       "0         0.714865              0.091251       0.061011             0.028923        0.0219    0.015501     0.014021      0.011217   0.009035         0.008569                0.008012        0.008012          0.006232        0.00145                   0.0                0.0              0.0           0.0          0.0             0.0                0.0           0.0      0.0         0.0            0.0             0.0               0.0        0.0             0.0                      0.0"
      ]
     },
     "execution_count": 7,
     "metadata": {},
     "output_type": "execute_result"
    }
   ],
   "source": [
    "pd.DataFrame(dt.feature_importances_, index=x.columns).T.sort_values(by=0, axis=1, ascending=False)"
   ]
  },
  {
   "cell_type": "markdown",
   "id": "c3721844",
   "metadata": {
    "papermill": {
     "duration": 0.006225,
     "end_time": "2023-10-19T13:07:11.233424",
     "exception": false,
     "start_time": "2023-10-19T13:07:11.227199",
     "status": "completed"
    },
    "tags": []
   },
   "source": [
    "# KNN Model"
   ]
  },
  {
   "cell_type": "code",
   "execution_count": 8,
   "id": "889665ad",
   "metadata": {
    "execution": {
     "iopub.execute_input": "2023-10-19T13:07:11.247706Z",
     "iopub.status.busy": "2023-10-19T13:07:11.246321Z",
     "iopub.status.idle": "2023-10-19T13:07:11.345048Z",
     "shell.execute_reply": "2023-10-19T13:07:11.343950Z"
    },
    "papermill": {
     "duration": 0.108205,
     "end_time": "2023-10-19T13:07:11.347468",
     "exception": false,
     "start_time": "2023-10-19T13:07:11.239263",
     "status": "completed"
    },
    "tags": []
   },
   "outputs": [
    {
     "data": {
      "text/plain": [
       "0.945054945054945"
      ]
     },
     "execution_count": 8,
     "metadata": {},
     "output_type": "execute_result"
    }
   ],
   "source": [
    "from sklearn.neighbors import KNeighborsClassifier as KNN\n",
    "\n",
    "knn = KNN()\n",
    "knn.fit(x_train, y_train)\n",
    "knn.score(x_train, y_train)"
   ]
  },
  {
   "cell_type": "markdown",
   "id": "77eb8c60",
   "metadata": {
    "papermill": {
     "duration": 0.005528,
     "end_time": "2023-10-19T13:07:11.358814",
     "exception": false,
     "start_time": "2023-10-19T13:07:11.353286",
     "status": "completed"
    },
    "tags": []
   },
   "source": [
    "## More Metrics"
   ]
  },
  {
   "cell_type": "code",
   "execution_count": 9,
   "id": "31b6ba4c",
   "metadata": {
    "execution": {
     "iopub.execute_input": "2023-10-19T13:07:11.373267Z",
     "iopub.status.busy": "2023-10-19T13:07:11.371875Z",
     "iopub.status.idle": "2023-10-19T13:07:11.399384Z",
     "shell.execute_reply": "2023-10-19T13:07:11.398371Z"
    },
    "papermill": {
     "duration": 0.037156,
     "end_time": "2023-10-19T13:07:11.401680",
     "exception": false,
     "start_time": "2023-10-19T13:07:11.364524",
     "status": "completed"
    },
    "tags": []
   },
   "outputs": [
    {
     "name": "stdout",
     "output_type": "stream",
     "text": [
      "Accuracy: 0.9298245614035088\n",
      "Precision: 0.9337606837606838\n",
      "Recall: 0.9114864864864864\n"
     ]
    }
   ],
   "source": [
    "y_pred = knn.predict(x_test)\n",
    "\n",
    "accuracy = accuracy_score(y_test, y_pred)\n",
    "precision = precision_score(y_test, y_pred, average='macro')\n",
    "recall = recall_score(y_test, y_pred, average='macro')\n",
    "\n",
    "metrics['KNN'] = {'accuracy':accuracy, 'precision':precision, 'recall':recall}\n",
    "\n",
    "\n",
    "print(\"Accuracy:\", accuracy)\n",
    "print(\"Precision:\", precision)\n",
    "print(\"Recall:\", recall)"
   ]
  },
  {
   "cell_type": "markdown",
   "id": "d6b73acc",
   "metadata": {
    "papermill": {
     "duration": 0.006092,
     "end_time": "2023-10-19T13:07:11.413798",
     "exception": false,
     "start_time": "2023-10-19T13:07:11.407706",
     "status": "completed"
    },
    "tags": []
   },
   "source": [
    "# SVM Model"
   ]
  },
  {
   "cell_type": "code",
   "execution_count": 10,
   "id": "e3eab6d9",
   "metadata": {
    "execution": {
     "iopub.execute_input": "2023-10-19T13:07:11.428367Z",
     "iopub.status.busy": "2023-10-19T13:07:11.427613Z",
     "iopub.status.idle": "2023-10-19T13:07:12.161413Z",
     "shell.execute_reply": "2023-10-19T13:07:12.160266Z"
    },
    "papermill": {
     "duration": 0.743986,
     "end_time": "2023-10-19T13:07:12.163721",
     "exception": false,
     "start_time": "2023-10-19T13:07:11.419735",
     "status": "completed"
    },
    "tags": []
   },
   "outputs": [
    {
     "data": {
      "text/plain": [
       "0.9714285714285714"
      ]
     },
     "execution_count": 10,
     "metadata": {},
     "output_type": "execute_result"
    }
   ],
   "source": [
    "from sklearn.svm import SVC\n",
    "\n",
    "svc = SVC(kernel='linear')\n",
    "svc.fit(x_train, y_train)\n",
    "svc.score(x_train, y_train)"
   ]
  },
  {
   "cell_type": "code",
   "execution_count": 11,
   "id": "1e670420",
   "metadata": {
    "execution": {
     "iopub.execute_input": "2023-10-19T13:07:12.178208Z",
     "iopub.status.busy": "2023-10-19T13:07:12.177530Z",
     "iopub.status.idle": "2023-10-19T13:07:12.203378Z",
     "shell.execute_reply": "2023-10-19T13:07:12.202236Z"
    },
    "papermill": {
     "duration": 0.036119,
     "end_time": "2023-10-19T13:07:12.205811",
     "exception": false,
     "start_time": "2023-10-19T13:07:12.169692",
     "status": "completed"
    },
    "tags": []
   },
   "outputs": [
    {
     "name": "stdout",
     "output_type": "stream",
     "text": [
      "Accuracy: 0.9298245614035088\n",
      "Precision: 0.9337606837606838\n",
      "Recall: 0.9114864864864864\n"
     ]
    }
   ],
   "source": [
    "y_pred = knn.predict(x_test)\n",
    "\n",
    "accuracy = accuracy_score(y_test, y_pred)\n",
    "precision = precision_score(y_test, y_pred, average='macro')\n",
    "recall = recall_score(y_test, y_pred, average='macro')\n",
    "\n",
    "metrics['SVC'] = {'accuracy':accuracy, 'precision':precision, 'recall':recall}\n",
    "\n",
    "print(\"Accuracy:\", accuracy)\n",
    "print(\"Precision:\", precision)\n",
    "print(\"Recall:\", recall)"
   ]
  },
  {
   "cell_type": "markdown",
   "id": "9b17425d",
   "metadata": {
    "papermill": {
     "duration": 0.005544,
     "end_time": "2023-10-19T13:07:12.217858",
     "exception": false,
     "start_time": "2023-10-19T13:07:12.212314",
     "status": "completed"
    },
    "tags": []
   },
   "source": [
    "# Random Forest"
   ]
  },
  {
   "cell_type": "code",
   "execution_count": 12,
   "id": "aad2df0e",
   "metadata": {
    "execution": {
     "iopub.execute_input": "2023-10-19T13:07:12.233719Z",
     "iopub.status.busy": "2023-10-19T13:07:12.232991Z",
     "iopub.status.idle": "2023-10-19T13:07:12.626162Z",
     "shell.execute_reply": "2023-10-19T13:07:12.625029Z"
    },
    "papermill": {
     "duration": 0.404605,
     "end_time": "2023-10-19T13:07:12.628340",
     "exception": false,
     "start_time": "2023-10-19T13:07:12.223735",
     "status": "completed"
    },
    "tags": []
   },
   "outputs": [
    {
     "data": {
      "text/plain": [
       "1.0"
      ]
     },
     "execution_count": 12,
     "metadata": {},
     "output_type": "execute_result"
    }
   ],
   "source": [
    "from sklearn.ensemble import RandomForestClassifier as RF\n",
    "\n",
    "rf = RF()\n",
    "rf.fit(x_train, y_train)\n",
    "rf.score(x_train, y_train)"
   ]
  },
  {
   "cell_type": "code",
   "execution_count": 13,
   "id": "95cec304",
   "metadata": {
    "execution": {
     "iopub.execute_input": "2023-10-19T13:07:12.642461Z",
     "iopub.status.busy": "2023-10-19T13:07:12.641821Z",
     "iopub.status.idle": "2023-10-19T13:07:12.665121Z",
     "shell.execute_reply": "2023-10-19T13:07:12.663600Z"
    },
    "papermill": {
     "duration": 0.03316,
     "end_time": "2023-10-19T13:07:12.667450",
     "exception": false,
     "start_time": "2023-10-19T13:07:12.634290",
     "status": "completed"
    },
    "tags": []
   },
   "outputs": [
    {
     "name": "stdout",
     "output_type": "stream",
     "text": [
      "Accuracy: 0.9385964912280702\n",
      "Precision: 0.947739602169982\n",
      "Recall: 0.9182432432432432\n"
     ]
    }
   ],
   "source": [
    "y_pred = rf.predict(x_test)\n",
    "\n",
    "accuracy = accuracy_score(y_test, y_pred)\n",
    "precision = precision_score(y_test, y_pred, average='macro')\n",
    "recall = recall_score(y_test, y_pred, average='macro')\n",
    "\n",
    "metrics['RandomForest'] = {'accuracy':accuracy, 'precision':precision, 'recall':recall}\n",
    "\n",
    "print(\"Accuracy:\", accuracy)\n",
    "print(\"Precision:\", precision)\n",
    "print(\"Recall:\", recall)"
   ]
  },
  {
   "cell_type": "code",
   "execution_count": 14,
   "id": "eb2de600",
   "metadata": {
    "execution": {
     "iopub.execute_input": "2023-10-19T13:07:12.682408Z",
     "iopub.status.busy": "2023-10-19T13:07:12.681502Z",
     "iopub.status.idle": "2023-10-19T13:07:12.693035Z",
     "shell.execute_reply": "2023-10-19T13:07:12.692180Z"
    },
    "papermill": {
     "duration": 0.021168,
     "end_time": "2023-10-19T13:07:12.695014",
     "exception": false,
     "start_time": "2023-10-19T13:07:12.673846",
     "status": "completed"
    },
    "tags": []
   },
   "outputs": [
    {
     "data": {
      "text/html": [
       "<div>\n",
       "<style scoped>\n",
       "    .dataframe tbody tr th:only-of-type {\n",
       "        vertical-align: middle;\n",
       "    }\n",
       "\n",
       "    .dataframe tbody tr th {\n",
       "        vertical-align: top;\n",
       "    }\n",
       "\n",
       "    .dataframe thead th {\n",
       "        text-align: right;\n",
       "    }\n",
       "</style>\n",
       "<table border=\"1\" class=\"dataframe\">\n",
       "  <thead>\n",
       "    <tr style=\"text-align: right;\">\n",
       "      <th></th>\n",
       "      <th>DecisionTree</th>\n",
       "      <th>KNN</th>\n",
       "      <th>SVC</th>\n",
       "      <th>RandomForest</th>\n",
       "    </tr>\n",
       "  </thead>\n",
       "  <tbody>\n",
       "    <tr>\n",
       "      <th>accuracy</th>\n",
       "      <td>0.91</td>\n",
       "      <td>0.93</td>\n",
       "      <td>0.93</td>\n",
       "      <td>0.94</td>\n",
       "    </tr>\n",
       "    <tr>\n",
       "      <th>precision</th>\n",
       "      <td>0.91</td>\n",
       "      <td>0.93</td>\n",
       "      <td>0.93</td>\n",
       "      <td>0.95</td>\n",
       "    </tr>\n",
       "    <tr>\n",
       "      <th>recall</th>\n",
       "      <td>0.90</td>\n",
       "      <td>0.91</td>\n",
       "      <td>0.91</td>\n",
       "      <td>0.92</td>\n",
       "    </tr>\n",
       "  </tbody>\n",
       "</table>\n",
       "</div>"
      ],
      "text/plain": [
       "           DecisionTree   KNN   SVC  RandomForest\n",
       "accuracy           0.91  0.93  0.93          0.94\n",
       "precision          0.91  0.93  0.93          0.95\n",
       "recall             0.90  0.91  0.91          0.92"
      ]
     },
     "execution_count": 14,
     "metadata": {},
     "output_type": "execute_result"
    }
   ],
   "source": [
    "metrics = pd.DataFrame(metrics).round(2)\n",
    "metrics"
   ]
  }
 ],
 "metadata": {
  "kernelspec": {
   "display_name": "Python 3",
   "language": "python",
   "name": "python3"
  },
  "language_info": {
   "codemirror_mode": {
    "name": "ipython",
    "version": 3
   },
   "file_extension": ".py",
   "mimetype": "text/x-python",
   "name": "python",
   "nbconvert_exporter": "python",
   "pygments_lexer": "ipython3",
   "version": "3.10.12"
  },
  "papermill": {
   "default_parameters": {},
   "duration": 9.113576,
   "end_time": "2023-10-19T13:07:13.525723",
   "environment_variables": {},
   "exception": null,
   "input_path": "__notebook__.ipynb",
   "output_path": "__notebook__.ipynb",
   "parameters": {},
   "start_time": "2023-10-19T13:07:04.412147",
   "version": "2.4.0"
  }
 },
 "nbformat": 4,
 "nbformat_minor": 5
}
